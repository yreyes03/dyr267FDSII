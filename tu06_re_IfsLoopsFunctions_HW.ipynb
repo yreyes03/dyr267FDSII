{
 "cells": [
  {
   "cell_type": "markdown",
   "id": "81d19d16",
   "metadata": {},
   "source": [
    "   # Ifs, loops, and function homework"
   ]
  },
  {
   "cell_type": "markdown",
   "id": "bd745db6",
   "metadata": {},
   "source": [
    "## 1. A function to reverse a string \n",
    "\n",
    "Write and test a function that reverses a string entered by a user. This function will have one input value (a string) and one output value (also a string).\n",
    "\n",
    "Test your function on, among other things, Napoleon's quote 'able was i ere i saw elba'"
   ]
  },
  {
   "cell_type": "code",
   "execution_count": 18,
   "id": "551a9bcb",
   "metadata": {
    "tags": []
   },
   "outputs": [],
   "source": [
    "def rev(nap):\n",
    "    nap = str(nap)\n",
    "    ls = []\n",
    "    sepa = ''\n",
    "\n",
    "    for i in reversed(nap):\n",
    "        ls.append(i)\n",
    "    ls = sepa.join(ls)\n",
    "    return ls"
   ]
  },
  {
   "cell_type": "code",
   "execution_count": 19,
   "id": "e71a129d",
   "metadata": {
    "tags": []
   },
   "outputs": [
    {
     "data": {
      "text/plain": [
       "'yppah'"
      ]
     },
     "execution_count": 19,
     "metadata": {},
     "output_type": "execute_result"
    }
   ],
   "source": [
    "rev('happy')"
   ]
  },
  {
   "cell_type": "markdown",
   "id": "72bc6f2e",
   "metadata": {},
   "source": [
    "*Optional challenge*: run the above on \"race car\" and then fix the resulting string."
   ]
  },
  {
   "cell_type": "code",
   "execution_count": null,
   "id": "7abd516b",
   "metadata": {},
   "outputs": [],
   "source": []
  },
  {
   "cell_type": "markdown",
   "id": "f351711e",
   "metadata": {},
   "source": [
    "## 2. Determine if a number is prime\n",
    "\n",
    "Write some code to test whether a number is prime or not, a prime number being an integer that is evenly divisible only by 1 and itself. \n",
    "\n",
    "Hint: another way to think about a prime number is that, if the smallest number (other than 1) that divides evenly into a number *is* that number, than the number is a prime.\n",
    "\n",
    "The easiest solution involves one `while` loop and one `if` test."
   ]
  },
  {
   "cell_type": "code",
   "execution_count": null,
   "id": "a59e45b9-d1b8-40f5-9926-06c0e10ccd45",
   "metadata": {
    "tags": []
   },
   "outputs": [],
   "source": [
    "num = int(input('Please enter a number: '))\n",
    "test_num = 2\n",
    "prime = 'nd'\n",
    "\n",
    "if num == 1:\n",
    "    print('not prime')\n",
    "    prime = 'd'\n",
    "while prime == 'nd' and test_num < num:\n",
    "    if num%test_num == 0:\n",
    "        print('not prime')\n",
    "        prime = 'd'\n",
    "        \n",
    "    test_num += 1\n",
    "    \n",
    "if prime == 'nd':\n",
    "    print('Is prime')"
   ]
  },
  {
   "cell_type": "code",
   "execution_count": 21,
   "id": "83ddae76-0eff-4de3-aa94-85f33e5143a7",
   "metadata": {
    "tags": []
   },
   "outputs": [
    {
     "name": "stdin",
     "output_type": "stream",
     "text": [
      "Please enter a number:  9\n"
     ]
    },
    {
     "name": "stdout",
     "output_type": "stream",
     "text": [
      "Not prime\n"
     ]
    }
   ],
   "source": [
    "num = int(input('Please enter a number: '))\n",
    "test_num = 2\n",
    "\n",
    "while num % test_num !=0:\n",
    "    test_num += 1\n",
    "    \n",
    "if test_num == num:\n",
    "    print('Is prime')\n",
    "else:\n",
    "    print('Not prime')"
   ]
  },
  {
   "cell_type": "markdown",
   "id": "97515edc",
   "metadata": {
    "tags": []
   },
   "source": [
    "## 3. Find the first 10 primes\n",
    "\n",
    "Extend your code above to find the first 10 prime numbers. This will involve wrapping your existing code in another \"outer\" loop.\n"
   ]
  },
  {
   "cell_type": "code",
   "execution_count": 1,
   "id": "f518030e",
   "metadata": {
    "tags": []
   },
   "outputs": [
    {
     "data": {
      "text/plain": [
       "[2, 3, 5, 7, 11, 13, 17, 19, 23, 27]"
      ]
     },
     "execution_count": 1,
     "metadata": {},
     "output_type": "execute_result"
    }
   ],
   "source": [
    "num = 3\n",
    "primes = [2]\n",
    "test_num = 2\n",
    "\n",
    "while len(primes) < 10:\n",
    "    while num % test_num != 0:\n",
    "        test_num += 1\n",
    "        #print(num,test_num)\n",
    "    if test_num == num:\n",
    "        \n",
    "        primes.append(num)\n",
    "        test_num = 2\n",
    "    num += 1\n",
    "    #print(num)\n",
    "    #print(len(primes))\n",
    "\n",
    "primes"
   ]
  },
  {
   "cell_type": "markdown",
   "id": "13c2c9d2",
   "metadata": {},
   "source": [
    "## 4. Make a function to compute the first n primes\n",
    "\n",
    "Functionalize (is that a word?) your above code. A user should be able to call your code with one integer argument and get a list back containing that number of primes. Make sure your function handles inputs of an incorrect type gracefully. You should also warn the user if they enter a really big number (which could take a long time...), and give them the option of either bailing or entering a different number."
   ]
  },
  {
   "cell_type": "code",
   "execution_count": 15,
   "id": "57e398af-a2cc-41e9-b960-a39859620dce",
   "metadata": {
    "tags": []
   },
   "outputs": [],
   "source": [
    "def primes(length):\n",
    "        \n",
    "    length = str(length)\n",
    "\n",
    "    num = 3\n",
    "    primes = [2]\n",
    "    test_num = 2\n",
    "\n",
    "    while length.isnumeric() != True:\n",
    "        print('That is not a valid input. Only enter whole numbers. Please try again.')\n",
    "        length = input('How many prime numbers do you need? ')\n",
    "\n",
    "    length = int(length)\n",
    "\n",
    "    if length >= 5000:\n",
    "        length = int(input('This is a large number and may take some time to compute.\\\n",
    "        If you would like to change to a new number please type it here. Otherwise type the same number. '))\n",
    "\n",
    "    if length == 0:\n",
    "        primes = [] \n",
    "\n",
    "    while len(primes) < length:\n",
    "\n",
    "        while num%test_num != 0:\n",
    "            test_num += 1\n",
    "\n",
    "        if num == test_num:\n",
    "            primes.append(num)\n",
    "            test_num = 2\n",
    "        num += 1\n",
    "\n",
    "    if length == 1:\n",
    "        print(f'You requested {length} prime number.')\n",
    "    else:\n",
    "        print(f'You requested {length} prime numbers.')\n",
    "\n",
    "    return primes\n"
   ]
  },
  {
   "cell_type": "code",
   "execution_count": 17,
   "id": "c3ed24a8-8de5-40d6-8470-8da2da7e079b",
   "metadata": {
    "tags": []
   },
   "outputs": [
    {
     "name": "stdout",
     "output_type": "stream",
     "text": [
      "You requested 10 prime numbers.\n"
     ]
    },
    {
     "data": {
      "text/plain": [
       "[2, 3, 5, 7, 11, 13, 17, 19, 23, 27]"
      ]
     },
     "execution_count": 17,
     "metadata": {},
     "output_type": "execute_result"
    }
   ],
   "source": [
    "primes(10)"
   ]
  }
 ],
 "metadata": {
  "kernelspec": {
   "display_name": "Python 3 (ipykernel)",
   "language": "python",
   "name": "python3"
  },
  "language_info": {
   "codemirror_mode": {
    "name": "ipython",
    "version": 3
   },
   "file_extension": ".py",
   "mimetype": "text/x-python",
   "name": "python",
   "nbconvert_exporter": "python",
   "pygments_lexer": "ipython3",
   "version": "3.11.4"
  }
 },
 "nbformat": 4,
 "nbformat_minor": 5
}
