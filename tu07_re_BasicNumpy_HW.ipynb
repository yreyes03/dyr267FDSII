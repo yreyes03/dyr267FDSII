{
 "cells": [
  {
   "cell_type": "markdown",
   "id": "1f1534b9",
   "metadata": {},
   "source": [
    "# Numpy review homework"
   ]
  },
  {
   "cell_type": "markdown",
   "id": "4db19bcf",
   "metadata": {},
   "source": [
    "1. Make a numpy matrix from a Python list of lists..."
   ]
  },
  {
   "cell_type": "code",
   "execution_count": 3,
   "id": "6b140a06",
   "metadata": {
    "tags": []
   },
   "outputs": [
    {
     "data": {
      "text/plain": [
       "array([[9, 8, 7],\n",
       "       [6, 5, 4],\n",
       "       [3, 2, 1]])"
      ]
     },
     "execution_count": 3,
     "metadata": {},
     "output_type": "execute_result"
    }
   ],
   "source": [
    "import numpy as np\n",
    "ls = [[9,8,7],[6,5,4],[3,2,1]]\n",
    "mat = np.array(ls)\n",
    "mat"
   ]
  },
  {
   "cell_type": "markdown",
   "id": "dd6e8ffb",
   "metadata": {},
   "source": [
    "2. Make a 3D numpy matrix from a Python list of lists of lists!"
   ]
  },
  {
   "cell_type": "code",
   "execution_count": 4,
   "id": "c977766b",
   "metadata": {
    "tags": []
   },
   "outputs": [
    {
     "data": {
      "text/plain": [
       "array([[[ 0,  1],\n",
       "        [ 2,  3]],\n",
       "\n",
       "       [[ 4,  5],\n",
       "        [ 6,  7]],\n",
       "\n",
       "       [[ 8,  9],\n",
       "        [10, 11]]])"
      ]
     },
     "execution_count": 4,
     "metadata": {},
     "output_type": "execute_result"
    }
   ],
   "source": [
    "ls = [[[0,1],[2,3]],[[4,5],[6,7]],[[8,9],[10,11]]]\n",
    "mat = np.array(ls)\n",
    "mat"
   ]
  },
  {
   "cell_type": "markdown",
   "id": "8ad64691",
   "metadata": {},
   "source": [
    "3. Create a 5x3 array of Gaussian random numbers. "
   ]
  },
  {
   "cell_type": "code",
   "execution_count": 18,
   "id": "5f280edc",
   "metadata": {
    "tags": []
   },
   "outputs": [
    {
     "data": {
      "text/plain": [
       "array([[ 0.68579759, -1.76454622, -0.50734714],\n",
       "       [ 0.59531057, -0.06770099, -0.93428723],\n",
       "       [-1.12051024, -0.84492869,  1.96069926],\n",
       "       [-1.7270785 , -0.12950564, -0.8497218 ],\n",
       "       [ 0.42520114,  0.8606911 ,  1.41532401]])"
      ]
     },
     "execution_count": 18,
     "metadata": {},
     "output_type": "execute_result"
    }
   ],
   "source": [
    "noise = np.random.randn(5,3)\n",
    "noise"
   ]
  },
  {
   "cell_type": "markdown",
   "id": "d129639e",
   "metadata": {},
   "source": [
    "4. Write a script to go through the array created in 3. and announce (print) the value and its row and column indexes.\n",
    "\n",
    "Hint: Use nested `for` loops - one to loop through the rows and one to loop through the columns."
   ]
  },
  {
   "cell_type": "code",
   "execution_count": 19,
   "id": "7dfe83e4-e3a6-40a9-a5ee-79734e78c622",
   "metadata": {
    "tags": []
   },
   "outputs": [
    {
     "name": "stdout",
     "output_type": "stream",
     "text": [
      "0.6857975878765163\n",
      "Location: (0, 0)\n",
      "-1.764546220539607\n",
      "Location: (0, 1)\n",
      "-0.5073471369503045\n",
      "Location: (0, 2)\n",
      "0.5953105658077735\n",
      "Location: (1, 0)\n",
      "-0.06770098538006855\n",
      "Location: (1, 1)\n",
      "-0.9342872332126789\n",
      "Location: (1, 2)\n",
      "-1.1205102427655835\n",
      "Location: (2, 0)\n",
      "-0.8449286917095321\n",
      "Location: (2, 1)\n",
      "1.9606992556902965\n",
      "Location: (2, 2)\n",
      "-1.7270784984083467\n",
      "Location: (3, 0)\n",
      "-0.1295056399206804\n",
      "Location: (3, 1)\n",
      "-0.8497217976282831\n",
      "Location: (3, 2)\n",
      "0.4252011377495098\n",
      "Location: (4, 0)\n",
      "0.8606910986528811\n",
      "Location: (4, 1)\n",
      "1.4153240090348145\n",
      "Location: (4, 2)\n"
     ]
    }
   ],
   "source": [
    "for i in range(len(noise)):\n",
    "    #print(noise[i])\n",
    "    for j in range(len(noise[i])):\n",
    "        print(noise[i,j])\n",
    "        print(f'Location: {i,j}')"
   ]
  },
  {
   "cell_type": "markdown",
   "id": "2f6c8094",
   "metadata": {},
   "source": [
    "5. Make an new array out of your random numbers such that the mean is 10 and the standard deviation is 3."
   ]
  },
  {
   "cell_type": "code",
   "execution_count": 34,
   "id": "b8cfc374",
   "metadata": {},
   "outputs": [
    {
     "name": "stdout",
     "output_type": "stream",
     "text": [
      "3.218630251201019\n",
      "9.599479441659343\n"
     ]
    }
   ],
   "source": [
    "nums = noise *3\n",
    "nums = nums + 10\n",
    "print(nums.std())\n",
    "print(nums.mean())"
   ]
  },
  {
   "cell_type": "markdown",
   "id": "431e4556",
   "metadata": {},
   "source": [
    "6. Count the number of values in your new array that are below 7."
   ]
  },
  {
   "cell_type": "code",
   "execution_count": 25,
   "id": "80cb12c5",
   "metadata": {},
   "outputs": [
    {
     "data": {
      "text/plain": [
       "3"
      ]
     },
     "execution_count": 25,
     "metadata": {},
     "output_type": "execute_result"
    }
   ],
   "source": [
    "count = 0\n",
    "for i in range(len(nums)):\n",
    "    for j in range(len(nums[i])):\n",
    "        if nums[i,j] < 7:\n",
    "            count += 1\n",
    "count"
   ]
  },
  {
   "cell_type": "markdown",
   "id": "f7191a90",
   "metadata": {},
   "source": [
    "7. Make a numpy sequence that has the even numbers from 2 up to (and including) 20."
   ]
  },
  {
   "cell_type": "code",
   "execution_count": 28,
   "id": "23277d0c",
   "metadata": {},
   "outputs": [
    {
     "data": {
      "text/plain": [
       "array([ 0,  2,  4,  6,  8, 10, 12, 14, 16, 18, 20])"
      ]
     },
     "execution_count": 28,
     "metadata": {},
     "output_type": "execute_result"
    }
   ],
   "source": [
    "ls = []\n",
    "\n",
    "for i in range(21):\n",
    "    if i%2 == 0:\n",
    "        ls.append(i)\n",
    "\n",
    "ar = np.array(ls)\n",
    "ar"
   ]
  },
  {
   "cell_type": "markdown",
   "id": "40bd499e",
   "metadata": {},
   "source": [
    "8. Get the second and third rows of your array."
   ]
  },
  {
   "cell_type": "code",
   "execution_count": 32,
   "id": "1abb0c7b",
   "metadata": {},
   "outputs": [
    {
     "data": {
      "text/plain": [
       "array([[11.7859317 ,  9.79689704,  7.1971383 ],\n",
       "       [ 6.63846927,  7.46521392, 15.88209777]])"
      ]
     },
     "execution_count": 32,
     "metadata": {},
     "output_type": "execute_result"
    }
   ],
   "source": [
    "nums[1:3]\n",
    "#nums"
   ]
  },
  {
   "cell_type": "markdown",
   "id": "1c3779c3",
   "metadata": {},
   "source": [
    "9. Compute the mean of the columns of your array."
   ]
  },
  {
   "cell_type": "code",
   "execution_count": 33,
   "id": "4e166283",
   "metadata": {},
   "outputs": [
    {
     "data": {
      "text/plain": [
       "9.794291334215105"
      ]
     },
     "execution_count": 33,
     "metadata": {},
     "output_type": "execute_result"
    }
   ],
   "source": [
    "np.mean(nums[1:3])"
   ]
  }
 ],
 "metadata": {
  "kernelspec": {
   "display_name": "Python 3 (ipykernel)",
   "language": "python",
   "name": "python3"
  },
  "language_info": {
   "codemirror_mode": {
    "name": "ipython",
    "version": 3
   },
   "file_extension": ".py",
   "mimetype": "text/x-python",
   "name": "python",
   "nbconvert_exporter": "python",
   "pygments_lexer": "ipython3",
   "version": "3.11.4"
  }
 },
 "nbformat": 4,
 "nbformat_minor": 5
}
