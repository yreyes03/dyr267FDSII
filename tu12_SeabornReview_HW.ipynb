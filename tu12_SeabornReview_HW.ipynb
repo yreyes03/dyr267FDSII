{
 "cells": [
  {
   "cell_type": "markdown",
   "id": "2dbc0407-ad9c-4f94-b75c-b92362ca6f7a",
   "metadata": {},
   "source": [
    "Write a function that uses seaborn to visualize data as we need it! We'll work on the penguins dataset and plot the numeric variables except for body mass."
   ]
  },
  {
   "cell_type": "markdown",
   "id": "ebdaa3fa-67ff-4c7e-8dae-67a17edbebbd",
   "metadata": {},
   "source": [
    "instructions.\n",
    "To flex both our plotting and function writing muscles, let's write a function to do some plotting! Your function should:\n",
    "\n",
    "take as input the penguins data frame\n",
    "allow the user to choose between a strip, violin, or box plot\n",
    "set one of the above three be the default\n",
    "have a docstr so users can get help() on it\n",
    "produce the plot requested by the user (of course!)\n",
    "provide a meanignful helpWrite a function that uses `seaborn` to visualize data as we need it!"
   ]
  },
  {
   "cell_type": "code",
   "execution_count": 66,
   "id": "71680527-d68a-49db-985b-9dbdeee1cb80",
   "metadata": {
    "tags": []
   },
   "outputs": [],
   "source": [
    "import seaborn as sns\n",
    "penguins = sns.load_dataset(\"penguins\")\n",
    "#penguins"
   ]
  },
  {
   "cell_type": "markdown",
   "id": "0050f247",
   "metadata": {},
   "source": [
    "Write function"
   ]
  },
  {
   "cell_type": "code",
   "execution_count": 83,
   "id": "787191bb",
   "metadata": {
    "tags": []
   },
   "outputs": [],
   "source": [
    "def plot_fun(penguins = penguins, plot_type = 1):\n",
    "    '''\n",
    "    \n",
    "    y_data = data, plot_type = plot\n",
    "    \n",
    "    This function will make a plot of bill and flipper measurements from the penguins dataset.\n",
    "    \n",
    "    1: makes a strip plot\n",
    "    2: makes a violin plot\n",
    "    3: makes a box plot\n",
    "    '''\n",
    "    \n",
    "    import seaborn as sns\n",
    "    penguins = sns.load_dataset(\"penguins\")\n",
    "    penguins = penguins.drop(labels = 'body_mass_g', axis = 1)\n",
    "    \n",
    "    if plot_type == 1:\n",
    "        return display(sns.stripplot(penguins, alpha = 1/6).set(title = 'Bill and Flipper Measurements', \n",
    "                                                 ylabel = 'milimeters'));\n",
    "    elif plot_type == 2:\n",
    "        return display(sns.violinplot(penguins).set(title = 'Bill and Flipper Measurements', \n",
    "                                                 ylabel = 'milimeters'));\n",
    "    elif plot_type == 3:\n",
    "        return display(sns.boxplot(penguins).set(title = 'Bill and Flipper Measurements', \n",
    "                                                 ylabel = 'milimeters'));\n",
    "    else:\n",
    "        return 'That is not a valid input.'\n",
    "                \n"
   ]
  },
  {
   "cell_type": "markdown",
   "id": "60df2b45",
   "metadata": {},
   "source": [
    "Get help on function"
   ]
  },
  {
   "cell_type": "code",
   "execution_count": 30,
   "id": "c7e9ad3d",
   "metadata": {
    "tags": []
   },
   "outputs": [
    {
     "name": "stdout",
     "output_type": "stream",
     "text": [
      "Help on function plot_fun in module __main__:\n",
      "\n",
      "plot_fun(penguins, plot_type=1)\n",
      "    y_data = data, plot_type = plot\n",
      "    \n",
      "    This function will make a plot of bill and flipper measurements from the penguins dataset.\n",
      "    \n",
      "    1: makes a strip plot\n",
      "    2: makes a violin plot\n",
      "    3: makes a box plot\n",
      "\n"
     ]
    }
   ],
   "source": [
    "help(plot_fun)"
   ]
  },
  {
   "cell_type": "markdown",
   "id": "40068c63",
   "metadata": {},
   "source": [
    "run function"
   ]
  },
  {
   "cell_type": "code",
   "execution_count": 86,
   "id": "57d3bdb7",
   "metadata": {
    "tags": []
   },
   "outputs": [
    {
     "data": {
      "text/plain": [
       "[Text(0.5, 1.0, 'Bill and Flipper Measurements'), Text(0, 0.5, 'milimeters')]"
      ]
     },
     "metadata": {},
     "output_type": "display_data"
    },
    {
     "data": {
      "image/png": "[encoded data removed]",
      "text/plain": [
       "<Figure size 640x480 with 1 Axes>"
      ]
     },
     "metadata": {},
     "output_type": "display_data"
    }
   ],
   "source": [
    "plot_fun(penguins,3)"
   ]
  }
 ],
 "metadata": {
  "kernelspec": {
   "display_name": "Python 3 (ipykernel)",
   "language": "python",
   "name": "python3"
  },
  "language_info": {
   "codemirror_mode": {
    "name": "ipython",
    "version": 3
   },
   "file_extension": ".py",
   "mimetype": "text/x-python",
   "name": "python",
   "nbconvert_exporter": "python",
   "pygments_lexer": "ipython3",
   "version": "3.11.4"
  }
 },
 "nbformat": 4,
 "nbformat_minor": 5
}
